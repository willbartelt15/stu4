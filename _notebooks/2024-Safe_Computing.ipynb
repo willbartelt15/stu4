{
 "cells": [
  {
   "cell_type": "markdown",
   "metadata": {},
   "source": [
    "---\n",
    "toc: true\n",
    "comments: true\n",
    "layout: post\n",
    "title: Safe Computing\n",
    "description: HW\n",
    "type: hacks\n",
    "courses: { compsci: {week: 16} }\n",
    "---"
   ]
  },
  {
   "cell_type": "markdown",
   "metadata": {},
   "source": [
    "Describe PII you have seen on a project in CompSci Principles.\n",
    "I have seen people user their names which is dangerous and can provide privacy concerns. \n",
    "With someones name you can find out alot of private information about the person which can be used with malicious intent.\n",
    "\n",
    "Describe good and bad passwords? What is another step that is used to assist in authentication?\n",
    "A good password is somewhat random that wouldn't make any sense to a starnger. Something like KHksh59sdhHG. \n",
    "This would be goof beacuse it dosen't follow a pattern and wouldn't be able to be guessed. Facial recognition is another way to authentify. \n",
    "Many phones have facial recognition which can prevent other poeple from getting in.\n",
    "\n",
    "Try to describe Symmetric and Asymmetric encryption.\n",
    "Symmetric encryption is when the same key is used to encrypt and dcerypt. \n",
    "Asymmetrric is better and is when a person uses somewhat of a publivc and private key. Two people would need to have to use a certain key.\n",
    "\n",
    "Provide an example of encryption we used in AWS deployment.\n",
    "One example could be to send a message to a website to be confirmed. If it was intersepted then it could be stolen and given viruses.\n",
    "\n",
    "Create a python script that lets the user input a password that is checked by the program\n"
   ]
  },
  {
   "cell_type": "code",
   "execution_count": 1,
   "metadata": {},
   "outputs": [
    {
     "name": "stdout",
     "output_type": "stream",
     "text": [
      "Password is valid.\n"
     ]
    }
   ],
   "source": [
    "import re\n",
    "\n",
    "def is_valid_password(password):\n",
    "    # Minimum length requirement\n",
    "    min_length = 8\n",
    "    \n",
    "    # Check if the password meets the minimum length requirement\n",
    "    if len(password) < min_length:\n",
    "        return False\n",
    "    \n",
    "    # Check if the password contains at least one letter and one number\n",
    "    if not re.search(r'\\d', password) or not re.search(r'[a-zA-Z]', password):\n",
    "        return False\n",
    "    \n",
    "    # Additional criteria can be added based on your requirements\n",
    "    \n",
    "    # If all criteria are met, return True\n",
    "    return True\n",
    "\n",
    "def main():\n",
    "    # Get user input for the password\n",
    "    password = input(\"Enter your password: \")\n",
    "    \n",
    "    # Check if the password is valid\n",
    "    if is_valid_password(password):\n",
    "        print(\"Password is valid.\")\n",
    "    else:\n",
    "        print(\"Password is invalid. Please ensure it meets the specified criteria.\")\n",
    "\n",
    "if __name__ == \"__main__\":\n",
    "    main()"
   ]
  }
 ],
 "metadata": {
  "kernelspec": {
   "display_name": "Python 3",
   "language": "python",
   "name": "python3"
  },
  "language_info": {
   "codemirror_mode": {
    "name": "ipython",
    "version": 3
   },
   "file_extension": ".py",
   "mimetype": "text/x-python",
   "name": "python",
   "nbconvert_exporter": "python",
   "pygments_lexer": "ipython3",
   "version": "3.10.12"
  },
  "orig_nbformat": 4
 },
 "nbformat": 4,
 "nbformat_minor": 2
}
