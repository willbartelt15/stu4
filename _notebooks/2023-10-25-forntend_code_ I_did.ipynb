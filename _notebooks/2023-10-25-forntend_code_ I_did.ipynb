{
 "cells": [
  {
   "cell_type": "markdown",
   "metadata": {},
   "source": [
    "---\n",
    "toc: true\n",
    "comments: false\n",
    "layout: post\n",
    "title: code from frontend (actual code)\n",
    "type: hacks\n",
    "courses: { compsci: {week: 11} }\n",
    "---"
   ]
  },
  {
   "cell_type": "code",
   "execution_count": null,
   "metadata": {
    "vscode": {
     "languageId": "html"
    }
   },
   "outputs": [],
   "source": [
    "%%html\n",
    "<body>\n",
    "    <script>\n",
    "        function calculateCalories() {\n",
    "            const age = parseFloat(document.getElementById('age').value);\n",
    "            const weight = parseFloat(document.getElementById('weight').value);\n",
    "            const height = parseFloat(document.getElementById('height').value);\n",
    "            const activity = document.getElementById('activity').value;\n",
    "            const gender = document.querySelector('input[name=\"gender\"]:checked').value;\n",
    "            const username = document.getElementById('username').value;\n",
    "\n",
    "            const userData = {\n",
    "                username: username,\n",
    "                age: age,\n",
    "                weight: weight,\n",
    "                height: height,\n",
    "                activity: activity,\n",
    "                gender: gender\n",
    "            };\n",
    "\n",
    "            // Calculate the calorie maintenance on the client side\n",
    "            const calorie_maintenance = calculateClientCalories(userData);\n",
    "        }\n",
    "    </script>\n",
    "</body>\n",
    "</html>"
   ]
  },
  {
   "cell_type": "code",
   "execution_count": null,
   "metadata": {
    "vscode": {
     "languageId": "html"
    }
   },
   "outputs": [],
   "source": [
    "%%html\n",
    "<body>\n",
    "    <script>\n",
    "function calculateClientCalories(userData) {\n",
    "            // Implement your calorie calculation logic here on the client side\n",
    "            // Replace this with your actual calculation\n",
    "            const age = userData.age;\n",
    "            const weight = userData.weight;\n",
    "            const height = userData.height;\n",
    "            const activity = userData.activity;\n",
    "            const gender = userData.gender;\n",
    "\n",
    "            // Define activity level multipliers\n",
    "            const activityLevels = {\n",
    "                sedentary: 1.2,\n",
    "                lightly_active: 1.375,\n",
    "                moderately_active: 1.55,\n",
    "                very_active: 1.725\n",
    "            };\n",
    "\n",
    "            // Example calorie calculation (Harris-Benedict equation)\n",
    "            if (gender === 'male') {\n",
    "                return (88.362 + 13.397 * weight + 4.799 * height - 5.677 * age) * activityLevels[activity];\n",
    "            } else {\n",
    "                return (447.593 + 9.247 * weight + 3.098 * height - 5.677 * age) * activityLevels[activity];\n",
    "            }\n",
    "        }\n",
    "    </script>\n",
    "</body>"
   ]
  }
 ],
 "metadata": {
  "language_info": {
   "name": "python"
  },
  "orig_nbformat": 4
 },
 "nbformat": 4,
 "nbformat_minor": 2
}
