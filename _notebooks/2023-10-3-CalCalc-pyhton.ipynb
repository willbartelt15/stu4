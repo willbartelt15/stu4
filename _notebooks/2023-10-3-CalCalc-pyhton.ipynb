{
 "cells": [
  {
   "cell_type": "code",
   "execution_count": 3,
   "metadata": {},
   "outputs": [
    {
     "name": "stdout",
     "output_type": "stream",
     "text": [
      "Your daily calorie requirement is approximately 2399.30 calories.\n"
     ]
    }
   ],
   "source": [
    "# Constants for the Harris-Benedict Equation\n",
    "BMR_MALE = 88.362\n",
    "BMR_FEMALE = 447.593\n",
    "ACTIVITY_MULTIPLIERS = {\n",
    "    \"sedentary\": 1.2,\n",
    "    \"lightly active\": 1.375,\n",
    "    \"moderately active\": 1.55,\n",
    "    \"very active\": 1.725,\n",
    "    \"extra active\": 1.9,\n",
    "}\n",
    "\n",
    "# Function to calculate BMR (Basal Metabolic Rate)\n",
    "def calculate_bmr(age, gender, weight, height):\n",
    "    if gender == \"male\":\n",
    "        return BMR_MALE + (13.397 * weight) + (4.799 * height) - (5.677 * age)\n",
    "    elif gender == \"female\":\n",
    "        return BMR_FEMALE + (9.247 * weight) + (3.098 * height) - (4.330 * age)\n",
    "    else:\n",
    "        raise ValueError(\"Invalid gender\")\n",
    "\n",
    "# Function to calculate daily calorie requirements\n",
    "def calculate_calories(age, gender, weight, height, activity_level):\n",
    "    bmr = calculate_bmr(age, gender, weight, height)\n",
    "    activity_multiplier = ACTIVITY_MULTIPLIERS.get(activity_level.lower(), 1.2)\n",
    "    daily_calories = bmr * activity_multiplier\n",
    "    return daily_calories\n",
    "\n",
    "# Input values\n",
    "age = int(input(\"Enter your age: \"))\n",
    "gender = input(\"Enter your gender (male/female): \")\n",
    "weight = float(input(\"Enter your weight in kilograms: \"))\n",
    "height = float(input(\"Enter your height in centimeters: \"))\n",
    "activity_level = input(\"Enter your activity level (sedentary/lightly active/moderately active/very active/extra active): \")\n",
    "\n",
    "# Calculate daily calorie requirements\n",
    "calories = calculate_calories(age, gender, weight, height, activity_level)\n",
    "\n",
    "# Display the result\n",
    "print(f\"Your daily calorie requirement is approximately {calories:.2f} calories.\")"
   ]
  }
 ],
 "metadata": {
  "kernelspec": {
   "display_name": "Python 3",
   "language": "python",
   "name": "python3"
  },
  "language_info": {
   "codemirror_mode": {
    "name": "ipython",
    "version": 3
   },
   "file_extension": ".py",
   "mimetype": "text/x-python",
   "name": "python",
   "nbconvert_exporter": "python",
   "pygments_lexer": "ipython3",
   "version": "3.10.12"
  },
  "orig_nbformat": 4
 },
 "nbformat": 4,
 "nbformat_minor": 2
}
