{
 "cells": [
  {
   "cell_type": "markdown",
   "metadata": {},
   "source": [
    "---\n",
    "toc: true\n",
    "comments: false\n",
    "layout: post\n",
    "title: Day 1\n",
    "description: Steps on creating my blog\n",
    "courses: { csp: {week: 1} }\n",
    "type: hacks\n",
    "---"
   ]
  },
  {
   "cell_type": "markdown",
   "metadata": {},
   "source": [
    "# These are our Hacks\n",
    "\n",
    "mkdir: Makes the directory\n",
    "\n",
    "cd: changes the directory\n",
    "\n",
    "git clone: clones repository\n",
    "\n",
    "bundle install: install's dependencies\n",
    "\n",
    "make: runs the server\n",
    "\n",
    "clear: empty's terminal\n",
    "\n",
    "# Problems\n",
    "\n",
    "The first problem I ran into was my chromebook had loading issues and wouldn't load vs code. After I got a new computer I was able to follow the steps listed in github.\n",
    "\n",
    "The next problem I ran into was when I ran make in vs code. It wouldn't take me to my personal blog and would load the teachers blog. So I had to recreate a new repository and was able to load up my personal blog\n",
    "\n",
    "The last problem I ran into was when I was creating my Blog the images wouldn't load. With the help of Jayden we were able to upload the images into Ubuntu so they would appear on my Blog.\n",
    "\n",
    "# Agile Mindset\n",
    "\n",
    "After me and Jayden both ran into problems we were able to problem solve and find solutions. Using a chromebook made it hard to ask other students questions because their work looked different than mine. Me and Jayden worked hard together and were able to have an agile mindset to fix our problems."
   ]
  }
 ],
 "metadata": {
  "language_info": {
   "name": "python"
  },
  "orig_nbformat": 4
 },
 "nbformat": 4,
 "nbformat_minor": 2
}
