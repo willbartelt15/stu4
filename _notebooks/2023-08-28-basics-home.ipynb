{
 "cells": [
  {
   "cell_type": "markdown",
   "metadata": {},
   "source": [
    "---\n",
    "layout: post\n",
    "title: Web Programming Basics\n",
    "description: An introduction to key topics in Web Programming\n",
    "courses: { csse: {week: 5}, csp: {week: 5} }\n",
    "type: ccc\n",
    "permalink: /basics/home\n",
    "---"
   ]
  },
  {
   "cell_type": "raw",
   "metadata": {},
   "source": [
    "{% include nav_basics.html %}\n"
   ]
  },
  {
   "cell_type": "markdown",
   "metadata": {},
   "source": [
    "\n",
    "# A guide to basic concepts in Web Notebook\n",
    "- Making a menu\n",
    "- Use menu to Guide topics\n",
    "- Make your own custom page and menu\n",
    "- Making a page dynamic through JavaScript\n",
    "- Review usage of Styles in GitHub Pages"
   ]
  }
 ],
 "metadata": {
  "kernelspec": {
   "display_name": "Python 3",
   "language": "python",
   "name": "python3"
  },
  "language_info": {
   "name": "python",
   "version": "3.9.12"
  },
  "orig_nbformat": 4
 },
 "nbformat": 4,
 "nbformat_minor": 2
}
