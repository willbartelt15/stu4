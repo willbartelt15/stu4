{
 "cells": [
  {
   "cell_type": "markdown",
   "metadata": {},
   "source": [
    "## Hack 1\n",
    "Integer: variable 1\n",
    "List: variable 3\n",
    "Boolean: variable 4\n",
    "String: variable 2"
   ]
  },
  {
   "cell_type": "code",
   "execution_count": 5,
   "metadata": {},
   "outputs": [
    {
     "name": "stdout",
     "output_type": "stream",
     "text": [
      "26\n",
      "Tesla\n",
      "['Nikki, Ankit, Monkia, Varun']\n",
      "True\n"
     ]
    }
   ],
   "source": [
    "# variable 1\n",
    "\n",
    "numStudents = 26\n",
    "print(numStudents)\n",
    "\n",
    "# variable 2\n",
    "\n",
    "car = \"Tesla\"\n",
    "print(car)\n",
    "\n",
    "# variable 3\n",
    "\n",
    "groupMates = [\"Nikki, Ankit, Monkia, Varun\"]\n",
    "print(groupMates)\n",
    "\n",
    "# variable 4\n",
    "\n",
    "dogbeatcats = True\n",
    "print(dogbeatcats)"
   ]
  },
  {
   "cell_type": "code",
   "execution_count": 11,
   "metadata": {},
   "outputs": [
    {
     "name": "stdout",
     "output_type": "stream",
     "text": [
      "15\n",
      "oreo\n",
      "<class 'list'>\n",
      "[[\"kaledios, oreos, sandwhich cremes, creme betweens\"]]\n",
      "<class 'str'>\n",
      "True\n"
     ]
    }
   ],
   "source": [
    "# variable 1\n",
    "\n",
    "numofWills = 15\n",
    "print(numofWills)\n",
    "\n",
    "# variable 2\n",
    "\n",
    "candy = \"oreo\"\n",
    "print(candy)\n",
    "\n",
    "# variable 3\n",
    "\n",
    "bestoreos = [\"kaledios, oreos, sandwhich cremes, creme betweens\"]\n",
    "\n",
    "import json\n",
    "list = [bestoreos]\n",
    "print(type(list))\n",
    "bestoreos = json.dumps(list)\n",
    "print(bestoreos)\n",
    "print(type(bestoreos))\n",
    "\n",
    "# variable 4\n",
    "\n",
    "kalediosbetterthanoreos = True\n",
    "print(kalediosbetterthanoreos)"
   ]
  }
 ],
 "metadata": {
  "kernelspec": {
   "display_name": "Python 3",
   "language": "python",
   "name": "python3"
  },
  "language_info": {
   "codemirror_mode": {
    "name": "ipython",
    "version": 3
   },
   "file_extension": ".py",
   "mimetype": "text/x-python",
   "name": "python",
   "nbconvert_exporter": "python",
   "pygments_lexer": "ipython3",
   "version": "3.10.12"
  },
  "orig_nbformat": 4
 },
 "nbformat": 4,
 "nbformat_minor": 2
}
