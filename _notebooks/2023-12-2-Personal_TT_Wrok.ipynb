{
 "cells": [
  {
   "cell_type": "markdown",
   "metadata": {},
   "source": [
    "---\n",
    "toc: true\n",
    "comments: false\n",
    "layout: post\n",
    "title: Personal Computing TT\n",
    "type: hacks\n",
    "courses: { compsci: {week: 14} }\n",
    "---"
   ]
  },
  {
   "cell_type": "markdown",
   "metadata": {},
   "source": [
    "## Social Media\n",
    "\n",
    "- Overview\n",
    "\n",
    "- Social media is a form of an online platform that allows for us to connect through the sharing of information and consumption of content amongst users. Social Media enables users to connect in real time through posts, videos, likes, and comments. It has transformed communication, provided a powerful way of personal expression, allowes for buisness promotion. However, it has also raised many concerns about privacy, cyber bulling, effecting dopamine, and addiction."
   ]
  },
  {
   "cell_type": "markdown",
   "metadata": {},
   "source": [
    "## Benifits\n",
    "\n",
    "- Connectivity: SOcial Media has allowed for users all over the world to connect online. You can share informatoiun and leanrn about cultures from all over the world. You can connect with online firends or family and share information through posts and videos. It allows you to showcase your talents to the world and can help you express yourself.\n",
    "\n",
    "- Information Sharing: Apps liek youtube can help you learn through educational conntent. Social Media helps keep you up to date on trending topics ghoing on in the world. It is often used when peopel are in need of recources ort reccomendations and can help people problem solve easily.\n",
    "\n",
    "- Buisness: Social Media is a powerful tool people can use for marketing. It provides an easy way to promote your product and build brand awarness globally. It can help someone by sharing a newly released product quickly to people all over the world.\n",
    "\n",
    "Overall, Social Media provides many benigfits as it alows fro people to connect all over the world and share informatiuon that can be used to provide enjoyment for a user or help someone educationally. It can help people build confidence and express themslevs and provide a way for people to promote their business or product to a wide audience."
   ]
  },
  {
   "cell_type": "markdown",
   "metadata": {},
   "source": [
    "## Negatives\n",
    "\n",
    "- Privacy: Social Media has constant privacy problmes. People are concerned that certain apps are taking information from the users. Also, People face haking problems where users can steel poeples information and use it against them.\n",
    "\n",
    "- CyberBullying/ Mental Health: Online platforms are often used in bad ways by the users. It's much easier to bully someone when you are not face to face with them. People get harrased and bullied which can lead to serious mental problems. People also compare themselves to others which can result in a lowered slef estyeem or even depression.\n",
    "\n",
    "- Addiction: Social Media is extremely addictive as it causes peopel to release small amounts of dopamine which atytracts a user to use their app. Feautres like infinte scrolling can make it hard for peopel to get off thae app which may reult in people using certain apps for many hours at a time.\n",
    "\n",
    "Overall, Social Media has plenty harmfall effects that go weith the good. People deal with privacy problems all the time and are concerned that thei information may be stealed by a user or even by the app. Bullying is also very common as it ius much easier online. People deal with depression and anxiety which may come from socia media. Lastly, Social Media is extremely addictive and it can mess with your overall dopamine levels. people get addicted to scrolling on tiktok and it can take many hours of your day away."
   ]
  }
 ],
 "metadata": {
  "language_info": {
   "name": "python"
  },
  "orig_nbformat": 4
 },
 "nbformat": 4,
 "nbformat_minor": 2
}
