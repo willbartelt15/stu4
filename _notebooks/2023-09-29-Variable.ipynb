{
 "cells": [
  {
   "cell_type": "code",
   "execution_count": 6,
   "metadata": {},
   "outputs": [
    {
     "name": "stdout",
     "output_type": "stream",
     "text": [
      "Will is the best\n"
     ]
    }
   ],
   "source": [
    "x = \"Will is the best\"\n",
    "print(x)\n"
   ]
  },
  {
   "cell_type": "code",
   "execution_count": 7,
   "metadata": {},
   "outputs": [
    {
     "name": "stdout",
     "output_type": "stream",
     "text": [
      "10 is an integer\n",
      "Falseis a boolean\n",
      "Will is a string\n"
     ]
    }
   ],
   "source": [
    "highscore = 10\n",
    "israining = False\n",
    "firstname = \"Will\"\n",
    "print(str(highscore) + \" is an integer\")\n",
    "print(str(israining) + \"is a boolean\")\n",
    "print(firstname + \" is a string\")"
   ]
  },
  {
   "cell_type": "code",
   "execution_count": 10,
   "metadata": {},
   "outputs": [
    {
     "name": "stdout",
     "output_type": "stream",
     "text": [
      "420\n",
      "420\n",
      "69\n"
     ]
    }
   ],
   "source": [
    "num1 = 69\n",
    "num2 = 69\n",
    "num3 = 420\n",
    "num2 = num3\n",
    "num3 = num1\n",
    "num1 = num2\n",
    "print(str(num1))\n",
    "print(str(num2))\n",
    "print(str(num3))"
   ]
  },
  {
   "cell_type": "code",
   "execution_count": 13,
   "metadata": {},
   "outputs": [
    {
     "name": "stdout",
     "output_type": "stream",
     "text": [
      "nihar\n",
      "Jayden\n",
      "Will\n",
      "Howie\n"
     ]
    }
   ],
   "source": [
    "groupnames = [\"nihar\", \"Jayden\", \"Will\", \"Howie\"]\n",
    "print(groupnames[0])\n",
    "print(groupnames[1])\n",
    "print(groupnames[2])\n",
    "print(groupnames[3])"
   ]
  },
  {
   "cell_type": "code",
   "execution_count": 14,
   "metadata": {},
   "outputs": [
    {
     "name": "stdout",
     "output_type": "stream",
     "text": [
      "[1]\n"
     ]
    }
   ],
   "source": [
    "list1 = [12, 34, 73, 64, 86]\n",
    "list2 = [1]\n",
    "list1 = list2\n",
    "print(str(list1))"
   ]
  },
  {
   "cell_type": "code",
   "execution_count": null,
   "metadata": {},
   "outputs": [],
   "source": []
  }
 ],
 "metadata": {
  "kernelspec": {
   "display_name": "Python 3",
   "language": "python",
   "name": "python3"
  },
  "language_info": {
   "codemirror_mode": {
    "name": "ipython",
    "version": 3
   },
   "file_extension": ".py",
   "mimetype": "text/x-python",
   "name": "python",
   "nbconvert_exporter": "python",
   "pygments_lexer": "ipython3",
   "version": "3.10.12"
  },
  "orig_nbformat": 4
 },
 "nbformat": 4,
 "nbformat_minor": 2
}
