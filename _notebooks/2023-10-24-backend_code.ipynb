{
 "cells": [
  {
   "cell_type": "markdown",
   "metadata": {},
   "source": [
    "---\n",
    "toc: true\n",
    "comments: false\n",
    "layout: post\n",
    "title: Backend Code\n",
    "type: hacks\n",
    "courses: { compsci: {week: 10} }\n",
    "---"
   ]
  },
  {
   "cell_type": "code",
   "execution_count": null,
   "metadata": {},
   "outputs": [],
   "source": [
    "from flask import Flask, request, jsonify\n",
    "\n",
    "app = Flask(__name__)\n",
    "\n",
    "# Initialize an empty dictionary to store user data\n",
    "user_data = {}\n",
    "\n",
    "@app.route('/api/saveUserData', methods=['POST'])\n",
    "def save_user_data():\n",
    "    data = request.json\n",
    "\n",
    "    # Ensure the \"username\" key is in the data\n",
    "    if 'username' not in data:\n",
    "        return jsonify({\"error\": \"Username is required.\"}), 400\n",
    "\n",
    "    username = data['username']\n",
    "\n",
    "    # Store user data in the dictionary\n",
    "    user_data[username] = data\n",
    "\n",
    "    return jsonify({\"message\": \"Data saved successfully\"})\n",
    "\n",
    "if __name__ == '__main__':\n",
    "    app.run(debug=True)"
   ]
  }
 ],
 "metadata": {
  "kernelspec": {
   "display_name": "Python 3",
   "language": "python",
   "name": "python3"
  },
  "language_info": {
   "codemirror_mode": {
    "name": "ipython",
    "version": 3
   },
   "file_extension": ".py",
   "mimetype": "text/x-python",
   "name": "python",
   "nbconvert_exporter": "python",
   "pygments_lexer": "ipython3",
   "version": "3.10.12"
  },
  "orig_nbformat": 4
 },
 "nbformat": 4,
 "nbformat_minor": 2
}
