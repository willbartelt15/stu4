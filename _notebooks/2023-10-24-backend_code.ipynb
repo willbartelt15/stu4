{
 "cells": [
  {
   "cell_type": "markdown",
   "metadata": {},
   "source": [
    "---\n",
    "toc: true\n",
    "comments: false\n",
    "layout: post\n",
    "title: Backend Code\n",
    "type: hacks\n",
    "courses: { compsci: {week: 10} }\n",
    "---"
   ]
  },
  {
   "cell_type": "code",
   "execution_count": null,
   "metadata": {},
   "outputs": [],
   "source": [
    "from flask import Flask, request, jsonify\n",
    "\n",
    "app = Flask(__name__)\n",
    "\n",
    "# Initialize an empty dictionary to store user data\n",
    "user_data = {}\n",
    "\n",
    "@app.route('/api/saveUserData', methods=['POST'])\n",
    "def save_user_data():\n",
    "    data = request.json\n",
    "\n",
    "    # Ensure the \"username\" key is in the data\n",
    "    if 'username' not in data:\n",
    "        return jsonify({\"error\": \"Username is required.\"}), 400\n",
    "\n",
    "    username = data['username']\n",
    "\n",
    "    # Store user data in the dictionary\n",
    "    user_data[username] = data\n",
    "\n",
    "    return jsonify({\"message\": \"Data saved successfully\"})\n",
    "\n",
    "if __name__ == '__main__':\n",
    "    app.run(debug=True)"
   ]
  },
  {
   "cell_type": "code",
   "execution_count": null,
   "metadata": {},
   "outputs": [],
   "source": [
    "from flask import Flask, request, jsonify\n",
    "from flask_restful import Api, Resource # used for REST API building\n",
    "import requests  # used for testing \n",
    "import random\n",
    "\n",
    "\n",
    "calcalc_api = __name__ ('calcalc_api', __name__,\n",
    "                   url_prefix='/api/calcalc')\n",
    "\n",
    "api = Api(calcalc_api)\n",
    "\n",
    "\n",
    "app = Flask(__name__)\n",
    "\n",
    "def calculateCalories(user_data):\n",
    "    age = user_data['age']\n",
    "    weight = user_data['weight']\n",
    "    height = user_data['height']\n",
    "    activity = user_data['activity']\n",
    "    gender = user_data['gender']\n",
    "\n",
    "    # Define activity level multipliers\n",
    "    activity_levels = {\n",
    "        'sedentary': 1.2,\n",
    "        'lightly_active': 1.375,\n",
    "        'moderately_active': 1.55,\n",
    "        'very_active': 1.725\n",
    "    }\n",
    "\n",
    "    # Example calorie calculation (Harris-Benedict equation)\n",
    "    if gender == 'male':\n",
    "        calorie_maintenance = (88.362 + 13.397 * weight + 4.799 * height - 5.677 * age) * activity_levels[activity]\n",
    "    else:\n",
    "        calorie_maintenance = (447.593 + 9.247 * weight + 3.098 * height - 4.330 * age) * activity_levels[activity]\n",
    "\n",
    "    return calorie_maintenance"
   ]
  }
 ],
 "metadata": {
  "kernelspec": {
   "display_name": "Python 3",
   "language": "python",
   "name": "python3"
  },
  "language_info": {
   "codemirror_mode": {
    "name": "ipython",
    "version": 3
   },
   "file_extension": ".py",
   "mimetype": "text/x-python",
   "name": "python",
   "nbconvert_exporter": "python",
   "pygments_lexer": "ipython3",
   "version": "3.10.12"
  },
  "orig_nbformat": 4
 },
 "nbformat": 4,
 "nbformat_minor": 2
}
