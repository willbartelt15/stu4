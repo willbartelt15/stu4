{
 "cells": [
  {
   "cell_type": "code",
   "execution_count": null,
   "metadata": {
    "vscode": {
     "languageId": "plaintext"
    }
   },
   "outputs": [],
   "source": []
  },
  {
   "cell_type": "markdown",
   "metadata": {},
   "source": [
    "---\n",
    "toc: true\n",
    "comments: false\n",
    "layout: post\n",
    "title: HW Table\n",
    "description: HW grades\n",
    "type: hacks\n",
    "courses: { csp: {week: 16} }\n",
    "---"
   ]
  },
  {
   "cell_type": "markdown",
   "metadata": {},
   "source": [
    "|              &nbsp;            |          Score          | Grader Verification | Extras | Key Indicators: Blog, GitHub File(s) and Key Commits |\n",
    "| :----------------------------: | :---------------------: | :-----------------: | :----: | :--------------------------------------------------: |\n",
    "| The Internet                   | 0.85/1                  | Ryan L.                   | I completed popcorn hacks and finished all extras that I could complete. HW. | [Link to GitHub.io with lesson and homework](https://docs.google.com/document/d/1_rYk78Fsfw3Rnf6exuWPqvrYjSjBjaP1eht0JsnDNNo/edit?usp=sharing)  | | |\n",
    "| Routing and Computing          | 1/1                  | Sri S.                   | I did the Hw and used the code examples to help uses as a reference to my answers | [Link to GitHub.io with lesson and homework](https://willbartelt15.github.io/stu4//2023/12/02/Personal_TT_Wrok_IPYNB_2_.html)  | | |\n",
    "| Beneficial and Harmful Effects | .95/1 (My team presented) | Me                   | I made this so for my part I reaserched many effects social media has and I tried to get multiple view points. | [Link to GitHub.io with lesson and homework](https://willbartelt15.github.io/stu4//2023/12/02/Personal_TT_Wrok_IPYNB_2_.html), [Link to GitHub comment with self-grading](https://github.com/nighthawkcoders/teacher_portfolio/issues/94) | | |\n",
    "| Digital Divide                 | 0.97/1                     | Sai T.                   | I did the popcorn hacks as well as used the info to answer the hw. | [Link to GitHub.io with lesson and homework](https://willbartelt15.github.io/stu4//2023/12/05/Digital-Divide_IPYNB_2_.html)  | | |\n",
    "| Computing Bias                 | 0.93/1                  | Tanvi P.                   | Completed hw on my own time as well as did the popcorn hacks during teach | [Link to GitHub.io with lesson and homework](https://willbartelt15.github.io/stu4//2023/12/10/teamteach_IPYNB_2_.html)  | | |\n",
    "| Crowdsourcing                  | 0.85/1                     | Grace O.                   | I did all the homework and used google to get more info whenever I was confused | [Link to GitHub.io with lesson and homework](https://willbartelt15.github.io/stu4//2023/12/14/Class_6_Crowdsourcing_IPYNB_2_.html)  | | |\n",
    "| Legal and Ethical Concerns     | 0.92/1                     | Cindy L.                   | I did the popcorn hacks and also tried to use my teamates for help whenever I was concerned. | [Link to GitHub.io with lesson and homework](https://docs.google.com/document/d/10p7PXFslNmRYZyc2sTZfFedr_DJ0xKuU5O0yOIL5e9Y/edit)  | | |\n",
    "| Safe Computing                 | 0.88/1                     | Aashray                   |  completed the popcorn hacks and honmework as well as used google to help gain info. | [Link to GitHub.io with lesson and homework](https://docs.google.com/document/d/1dglcQa2lE8yrNGTW-8xiGYUXX0J6w24IOQx8QrbSSkY/edit)  | |\n",
    "| CB Quiz                        | 62/67 =           | College Board                   | I used google and my teamates whenever I needed extra help to understand the problem. | [Link to blog post reviewing CollegeBoard MC Quiz](https://apclassroom.collegeboard.org/103/assessments/results/55303670/performance), [Link to blog post reviewing Collegeboard FRQ Quiz] |\n",
    "| Totals                         | Median Score: 0.92/1    | Number Complete: All   | Extra Effort Count: All | Key Tangible Assets Count: 9/9 |"
   ]
  }
 ],
 "metadata": {
  "language_info": {
   "name": "python"
  },
  "orig_nbformat": 4
 },
 "nbformat": 4,
 "nbformat_minor": 2
}
